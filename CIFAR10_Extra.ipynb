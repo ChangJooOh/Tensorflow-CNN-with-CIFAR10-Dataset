{
 "cells": [
  {
   "cell_type": "code",
   "execution_count": 5,
   "metadata": {
    "colab": {
     "autoexec": {
      "startup": false,
      "wait_interval": 0
     },
     "base_uri": "https://localhost:8080/",
     "height": 105
    },
    "colab_type": "code",
    "executionInfo": {
     "elapsed": 15465,
     "status": "ok",
     "timestamp": 1527607949448,
     "user": {
      "displayName": "Zeki Kuş",
      "photoUrl": "https://lh3.googleusercontent.com/a/default-user=s128",
      "userId": "113800785453624523681"
     },
     "user_tz": -180
    },
    "id": "eZ3xO8XDZBfy",
    "outputId": "cb8081e8-891c-4a52-b5d5-be2bcb01606f"
   },
   "outputs": [
    {
     "name": "stdout",
     "output_type": "stream",
     "text": [
      "Please, open the following URL in a web browser: https://accounts.google.com/o/oauth2/auth?client_id=32555940559.apps.googleusercontent.com&redirect_uri=urn%3Aietf%3Awg%3Aoauth%3A2.0%3Aoob&scope=https%3A%2F%2Fwww.googleapis.com%2Fauth%2Fdrive&response_type=code&access_type=offline&approval_prompt=force\r\n",
      "··········\n",
      "Please, open the following URL in a web browser: https://accounts.google.com/o/oauth2/auth?client_id=32555940559.apps.googleusercontent.com&redirect_uri=urn%3Aietf%3Awg%3Aoauth%3A2.0%3Aoob&scope=https%3A%2F%2Fwww.googleapis.com%2Fauth%2Fdrive&response_type=code&access_type=offline&approval_prompt=force\n",
      "Please enter the verification code: Access token retrieved correctly.\n"
     ]
    }
   ],
   "source": [
    "!apt-get install -y -qq software-properties-common python-software-properties module-init-tools\n",
    "!add-apt-repository -y ppa:alessandro-strada/ppa 2>&1 > /dev/null\n",
    "!apt-get update -qq 2>&1 > /dev/null\n",
    "!apt-get -y install -qq google-drive-ocamlfuse fuse\n",
    "from google.colab import auth\n",
    "auth.authenticate_user()\n",
    "from oauth2client.client import GoogleCredentials\n",
    "creds = GoogleCredentials.get_application_default()\n",
    "import getpass\n",
    "!google-drive-ocamlfuse -headless -id={creds.client_id} -secret={creds.client_secret} < /dev/null 2>&1 | grep URL\n",
    "vcode = getpass.getpass()\n",
    "!echo {vcode} | google-drive-ocamlfuse -headless -id={creds.client_id} -secret={creds.client_secret}"
   ]
  },
  {
   "cell_type": "code",
   "execution_count": 0,
   "metadata": {
    "colab": {
     "autoexec": {
      "startup": false,
      "wait_interval": 0
     }
    },
    "colab_type": "code",
    "id": "D00Qk8m3ZF7N"
   },
   "outputs": [],
   "source": [
    "!mkdir -p drive\n",
    "!google-drive-ocamlfuse drive"
   ]
  },
  {
   "cell_type": "code",
   "execution_count": 6,
   "metadata": {
    "colab": {
     "autoexec": {
      "startup": false,
      "wait_interval": 0
     },
     "base_uri": "https://localhost:8080/",
     "height": 34
    },
    "colab_type": "code",
    "executionInfo": {
     "elapsed": 1691,
     "status": "ok",
     "timestamp": 1527607957128,
     "user": {
      "displayName": "Zeki Kuş",
      "photoUrl": "https://lh3.googleusercontent.com/a/default-user=s128",
      "userId": "113800785453624523681"
     },
     "user_tz": -180
    },
    "id": "F_AD0Kg7ZIav",
    "outputId": "72781e4c-dd67-4761-a0b0-702a851b8094"
   },
   "outputs": [
    {
     "name": "stderr",
     "output_type": "stream",
     "text": [
      "Using TensorFlow backend.\n"
     ]
    }
   ],
   "source": [
    "import numpy as np\n",
    "import pandas as pd\n",
    "import tensorflow as tf\n",
    "from sklearn.model_selection import train_test_split\n",
    "from keras.utils import to_categorical\n",
    "import matplotlib.pyplot as plt\n",
    "import keras\n",
    "from keras.datasets import cifar10"
   ]
  },
  {
   "cell_type": "code",
   "execution_count": 12,
   "metadata": {
    "colab": {
     "autoexec": {
      "startup": false,
      "wait_interval": 0
     },
     "base_uri": "https://localhost:8080/",
     "height": 51
    },
    "colab_type": "code",
    "executionInfo": {
     "elapsed": 85939,
     "status": "ok",
     "timestamp": 1527608157928,
     "user": {
      "displayName": "Zeki Kuş",
      "photoUrl": "https://lh3.googleusercontent.com/a/default-user=s128",
      "userId": "113800785453624523681"
     },
     "user_tz": -180
    },
    "id": "hDLtWk3YgZZ6",
    "outputId": "d43d72e3-5d7e-4610-c864-2787d7eb5875"
   },
   "outputs": [
    {
     "name": "stdout",
     "output_type": "stream",
     "text": [
      "Downloading data from https://www.cs.toronto.edu/~kriz/cifar-10-python.tar.gz\n",
      "126066688/170498071 [=====================>........] - ETA: 23s170500096/170498071 [==============================] - 82s 0us/step\n"
     ]
    }
   ],
   "source": [
    "(x_train, y_train), (x_test, y_test) = cifar10.load_data()"
   ]
  },
  {
   "cell_type": "code",
   "execution_count": 0,
   "metadata": {
    "colab": {
     "autoexec": {
      "startup": false,
      "wait_interval": 0
     }
    },
    "colab_type": "code",
    "id": "NLA2494IZPJX"
   },
   "outputs": [],
   "source": [
    "input_shape = [None, 32, 32, 3]\n",
    "number_of_classes = 10\n",
    "\n",
    "#Conver output label to one hot vector\n",
    "y_train = to_categorical(y_train, number_of_classes)\n",
    "y_test = to_categorical(y_test, number_of_classes)"
   ]
  },
  {
   "cell_type": "code",
   "execution_count": 14,
   "metadata": {
    "colab": {
     "autoexec": {
      "startup": false,
      "wait_interval": 0
     },
     "base_uri": "https://localhost:8080/",
     "height": 85
    },
    "colab_type": "code",
    "executionInfo": {
     "elapsed": 1166,
     "status": "ok",
     "timestamp": 1527608160452,
     "user": {
      "displayName": "Zeki Kuş",
      "photoUrl": "https://lh3.googleusercontent.com/a/default-user=s128",
      "userId": "113800785453624523681"
     },
     "user_tz": -180
    },
    "id": "0X-ZefV4hi1z",
    "outputId": "0fd0a196-065c-46a1-9955-06ba5d34a700"
   },
   "outputs": [
    {
     "name": "stdout",
     "output_type": "stream",
     "text": [
      "Shape of training features: (50000, 32, 32, 3)\n",
      "Shape of training lables: (50000, 10)\n",
      "Shape of testing features: (10000, 32, 32, 3)\n",
      "Shape of testing lables: (10000, 10)\n"
     ]
    }
   ],
   "source": [
    "print(\"Shape of training features: {}\".format(x_train.shape))\n",
    "print(\"Shape of training lables: {}\".format(y_train.shape))\n",
    "print(\"Shape of testing features: {}\".format(x_test.shape))\n",
    "print(\"Shape of testing lables: {}\".format(y_test.shape))"
   ]
  },
  {
   "cell_type": "code",
   "execution_count": 0,
   "metadata": {
    "colab": {
     "autoexec": {
      "startup": false,
      "wait_interval": 0
     }
    },
    "colab_type": "code",
    "id": "dusSPSGEhQ0v"
   },
   "outputs": [],
   "source": [
    "#Hyper parameters\n",
    "learning_rate = 0.01\n",
    "epoch = 10\n",
    "batch_size = 32"
   ]
  },
  {
   "cell_type": "code",
   "execution_count": 8,
   "metadata": {
    "colab": {
     "autoexec": {
      "startup": false,
      "wait_interval": 0
     },
     "base_uri": "https://localhost:8080/",
     "height": 364
    },
    "colab_type": "code",
    "executionInfo": {
     "elapsed": 767,
     "status": "ok",
     "timestamp": 1527417860442,
     "user": {
      "displayName": "Zeki Kuş",
      "photoUrl": "https://lh3.googleusercontent.com/a/default-user=s128",
      "userId": "113800785453624523681"
     },
     "user_tz": -180
    },
    "id": "rtF8G7YZZ8IJ",
    "outputId": "806d44ef-7efd-440a-e868-07bc3d808958"
   },
   "outputs": [
    {
     "data": {
      "text/plain": [
       "<matplotlib.image.AxesImage at 0x7f8545c35e48>"
      ]
     },
     "execution_count": 8,
     "metadata": {
      "tags": []
     },
     "output_type": "execute_result"
    },
    {
     "data": {
      "image/png": "[encoded data removed]",
      "text/plain": [
       "<matplotlib.figure.Figure at 0x7f8584eb5f98>"
      ]
     },
     "metadata": {
      "tags": []
     },
     "output_type": "display_data"
    }
   ],
   "source": [
    "plt.imshow(x_train[1])"
   ]
  },
  {
   "cell_type": "code",
   "execution_count": 16,
   "metadata": {
    "colab": {
     "autoexec": {
      "startup": false,
      "wait_interval": 0
     },
     "base_uri": "https://localhost:8080/",
     "height": 51
    },
    "colab_type": "code",
    "executionInfo": {
     "elapsed": 1629,
     "status": "ok",
     "timestamp": 1527608176660,
     "user": {
      "displayName": "Zeki Kuş",
      "photoUrl": "https://lh3.googleusercontent.com/a/default-user=s128",
      "userId": "113800785453624523681"
     },
     "user_tz": -180
    },
    "id": "5An8SAuhaQF7",
    "outputId": "8c652b02-0722-4a07-d27c-1ba3d15a2d31"
   },
   "outputs": [
    {
     "name": "stdout",
     "output_type": "stream",
     "text": [
      "Number of examples in training set: 45000\n",
      "Number of examples in cross validation set: 5000\n"
     ]
    }
   ],
   "source": [
    "x_train, cv_x, y_train, cv_y = train_test_split(x_train, y_train, \n",
    "                                                test_size = 5000, random_state = 42)\n",
    "\n",
    "print(\"Number of examples in training set: {}\".format(x_train.shape[0]))\n",
    "print(\"Number of examples in cross validation set: {}\".format(cv_x.shape[0]))"
   ]
  },
  {
   "cell_type": "code",
   "execution_count": 0,
   "metadata": {
    "colab": {
     "autoexec": {
      "startup": false,
      "wait_interval": 0
     }
    },
    "colab_type": "code",
    "id": "6wuLKvcRkamg"
   },
   "outputs": [],
   "source": [
    "x_train = x_train.astype('float32')\n",
    "x_test = x_test.astype('float32')\n",
    "x_train /= 255\n",
    "x_test /= 255"
   ]
  },
  {
   "cell_type": "code",
   "execution_count": 0,
   "metadata": {
    "colab": {
     "autoexec": {
      "startup": false,
      "wait_interval": 0
     }
    },
    "colab_type": "code",
    "id": "wjUQYHBSiPik"
   },
   "outputs": [],
   "source": [
    "#GRAPH\n",
    "\n",
    "#Resetting graph\n",
    "tf.reset_default_graph()\n",
    "\n",
    "#Defining Placeholders\n",
    "x = tf.placeholder(tf.float32,shape=[None,32,32,3])\n",
    "y_true = tf.placeholder(tf.float32,shape=[None,10])\n",
    "train_mode = tf.placeholder(tf.bool)\n",
    "\n",
    "config = tf.ConfigProto(allow_soft_placement=True)\n",
    "config.gpu_options.allow_growth = True\n",
    "config.gpu_options.allocator_type = 'BFC'\n",
    "\n",
    "filter_size = 3\n",
    "\n",
    "with tf.name_scope('Model'):\n",
    "    #Convolutional Layer 1 + RELU\n",
    "    convo_1 = tf.layers.conv2d(inputs=x,filters=32, kernel_size = [filter_size,filter_size], padding=\"same\", activation=tf.nn.relu)\n",
    "    #Convolutional Layer 2 + RELU\n",
    "    convo_2 = tf.layers.conv2d(inputs=convo_1,filters=64, kernel_size = [filter_size,filter_size], activation=tf.nn.relu)\n",
    "    #Pooling Layer 1\n",
    "    pooling_1 = tf.layers.max_pooling2d(inputs=convo_2, pool_size=[2, 2], strides=2)\n",
    "    dropout_1 = tf.layers.dropout(pooling_1,rate=0.25, training= train_mode)\n",
    "    \n",
    "    #Convolutional Layer 3 + RELU\n",
    "    convo_3 = tf.layers.conv2d(inputs=dropout_1,filters=64, kernel_size = [filter_size,filter_size], padding=\"same\", activation=tf.nn.relu)\n",
    "    #Convolutional Layer 4 + RELU\n",
    "    convo_4 = tf.layers.conv2d(inputs=convo_3,filters=128, kernel_size = [filter_size,filter_size], activation=tf.nn.relu)\n",
    "    #Pooling Layer 2\n",
    "    pooling_2 = tf.layers.max_pooling2d(inputs=convo_4, pool_size=[2, 2], strides=2)\n",
    "    dropout_2 = tf.layers.dropout(pooling_2,rate=0.25, training= train_mode)\n",
    "    \n",
    "    #Flattening\n",
    "    flatten = tf.reshape(dropout_2,[-1,6*6*128])\n",
    "    #Fully Connected 1 + RELU\n",
    "    full_layer_one = tf.layers.dense(inputs=flatten, units = 512, activation=tf.nn.relu)\n",
    "    #Dropout Layer 1\n",
    "    full_one_dropout = tf.layers.dropout(full_layer_one,rate=0.5, training= train_mode)\n",
    "    #Output Layer,containing 2 output nodes.\n",
    "    y_pred = tf.layers.dense(inputs=full_one_dropout,units=10)\n",
    "\n",
    "#Loss function\n",
    "with tf.name_scope('Loss'):\n",
    "    loss = tf.losses.softmax_cross_entropy(y_true, y_pred)\n",
    "\n",
    "#Optimizer Function\n",
    "with tf.name_scope('ADAM'):\n",
    "     train_op = tf.train.AdamOptimizer(learning_rate=0.0001).minimize(loss)\n",
    "\n",
    "#Defining Accuracy\n",
    "with tf.name_scope('Accuracy'):\n",
    "    accuracy = tf.reduce_mean(tf.cast(tf.equal(tf.argmax(y_pred, 1), tf.argmax(y_true, 1)), tf.float32))"
   ]
  },
  {
   "cell_type": "code",
   "execution_count": 60,
   "metadata": {
    "colab": {
     "autoexec": {
      "startup": false,
      "wait_interval": 0
     },
     "base_uri": "https://localhost:8080/",
     "height": 238
    },
    "colab_type": "code",
    "executionInfo": {
     "elapsed": 278046,
     "status": "ok",
     "timestamp": 1527274372656,
     "user": {
      "displayName": "Zeki Kuş",
      "photoUrl": "https://lh3.googleusercontent.com/a/default-user=s128",
      "userId": "113800785453624523681"
     },
     "user_tz": -180
    },
    "id": "hyTMyp27korl",
    "outputId": "2b096c99-2a13-47fd-f7d0-fdeae39df00c"
   },
   "outputs": [
    {
     "name": "stdout",
     "output_type": "stream",
     "text": [
      "Training:Start\n",
      "Epoch: 1 Cost: 1.717341889527919 accuracy: 0.3974991115849325 \n",
      "Epoch: 2 Cost: 1.3639636663759755 accuracy: 0.542866027007818 \n",
      "Epoch: 3 Cost: 1.2148108573505922 accuracy: 0.6045664534470505 \n",
      "Epoch: 4 Cost: 1.1090097642724916 accuracy: 0.6480987917555082 \n",
      "Epoch: 5 Cost: 1.021113065279395 accuracy: 0.681703091684435 \n",
      "Epoch: 6 Cost: 0.9508058969487846 accuracy: 0.709155117270789 \n",
      "Epoch: 7 Cost: 0.8878147993581224 accuracy: 0.7331867448471926 \n",
      "Epoch: 8 Cost: 0.8376032652208849 accuracy: 0.7542643923240938 \n",
      "Epoch: 9 Cost: 0.7900279221544904 accuracy: 0.7730765813788202 \n",
      "Epoch: 10 Cost: 0.7431189785810826 accuracy: 0.7914001421464109 \n",
      "[3]\n",
      "Model saved in path: drive/Colab Notebooks/CIFAR-10/model.ckpt\n"
     ]
    }
   ],
   "source": [
    "saver = tf.train.Saver()\n",
    "\n",
    "with tf.Session(config=config) as sess:\n",
    "    sess.run(tf.global_variables_initializer())\n",
    "    \n",
    "    \n",
    "    total_size = x_train.shape[0]\n",
    "    number_of_batches = int(total_size/batch_size)\n",
    "    \n",
    "    print(\"Training:Start\")\n",
    "    for e in range(epoch):\n",
    "        epoch_cost = 0\n",
    "        epoch_accuracy = 0\n",
    "        for i in range(number_of_batches):\n",
    "            mini_x = x_train[i*batch_size:(i+1)*batch_size, :, :, :]\n",
    "            mini_y = y_train[i*batch_size:(i+1)*batch_size, :]\n",
    "            _, cost = sess.run([train_op,loss], feed_dict={x:mini_x, y_true:mini_y,train_mode:True})\n",
    "            train_accuracy = sess.run(accuracy, feed_dict={x:mini_x, y_true:mini_y,train_mode:False})\n",
    "            epoch_cost += cost\n",
    "            epoch_accuracy += train_accuracy\n",
    "        epoch_cost /= number_of_batches\n",
    "        \n",
    "        if total_size % batch_size != 0:\n",
    "            epoch_accuracy /= (number_of_batches+1)\n",
    "        else:\n",
    "            epoch_accuracy /= number_of_batches\n",
    "        print(\"Epoch: {} Cost: {} accuracy: {} \".format(e+1, np.squeeze(epoch_cost), epoch_accuracy))\n",
    "    \n",
    "    a = tf.argmax(y_pred, 1)\n",
    "    print(a.eval(feed_dict={x:x_train[0:1,:,:,:],train_mode:False}))\n",
    "    save_path = saver.save(sess, \"drive/Colab Notebooks/CIFAR-10/model.ckpt\")\n",
    "    print(\"Model saved in path: %s\" % save_path)"
   ]
  },
  {
   "cell_type": "markdown",
   "metadata": {},
   "source": [
    "## Eğitilen Ağın Performansının Daha Doğru Bir Şekilde Ölçülebilmesi İçin Farklı Random-State Değerleri ile Ağı 5 Defa Daha Sıfırdan Eğitip Elde Edilen Doğruluk Oranlarının Ortalamasını Hesaplıyorum.\n",
    "\n",
    " Böylece bir önceki kısımdaki gibi ağı sürekli aynı test ve train verileri ile eğitmek yerine her çalıştırmada(run) farklı train ve test verilerini kullandım."
   ]
  },
  {
   "cell_type": "code",
   "execution_count": 0,
   "metadata": {
    "colab": {
     "autoexec": {
      "startup": false,
      "wait_interval": 0
     }
    },
    "colab_type": "code",
    "id": "pho-TTW8Qddv"
   },
   "outputs": [],
   "source": [
    "X = np.concatenate((x_train[:,:,:,:],x_test[:,:,:]),axis=0)\n",
    "y = np.concatenate((y_train[:,:],y_test[:,:]),axis=0)\n",
    "\n",
    "from  sklearn.model_selection import train_test_split"
   ]
  },
  {
   "cell_type": "code",
   "execution_count": 17,
   "metadata": {
    "colab": {
     "autoexec": {
      "startup": false,
      "wait_interval": 0
     },
     "base_uri": "https://localhost:8080/",
     "height": 1224
    },
    "colab_type": "code",
    "executionInfo": {
     "elapsed": 1236278,
     "status": "ok",
     "timestamp": 1527421057693,
     "user": {
      "displayName": "Zeki Kuş",
      "photoUrl": "https://lh3.googleusercontent.com/a/default-user=s128",
      "userId": "113800785453624523681"
     },
     "user_tz": -180
    },
    "id": "54BGoTB_1Z3h",
    "outputId": "bab2ae4e-c514-45ee-996f-9e93ece198e9"
   },
   "outputs": [
    {
     "name": "stdout",
     "output_type": "stream",
     "text": [
      "Random = 0\n",
      "Training:Start\n",
      "Epoch: 1 Cost: 1.7284195787256413 accuracy: 0.3945 \n",
      "Epoch: 2 Cost: 1.397501811764457 accuracy: 0.5297045454545455 \n",
      "Epoch: 3 Cost: 1.252150617686185 accuracy: 0.5888181818181818 \n",
      "Epoch: 4 Cost: 1.1481414057558232 accuracy: 0.6297272727272727 \n",
      "Epoch: 5 Cost: 1.0646370544000106 accuracy: 0.6659772727272727 \n",
      "Epoch: 6 Cost: 0.992348838372664 accuracy: 0.69575 \n",
      "Epoch: 7 Cost: 0.9291473836898804 accuracy: 0.72075 \n",
      "Epoch: 8 Cost: 0.8761960230740634 accuracy: 0.7414318181818181 \n",
      "Epoch: 9 Cost: 0.8261348401849921 accuracy: 0.7615681818181819 \n",
      "Epoch: 10 Cost: 0.7804373869245702 accuracy: 0.7794318181818182 \n",
      "Test Accuracy: 0.7170239825581395\n",
      "**************************************************\n",
      "Random = 1\n",
      "Training:Start\n",
      "Epoch: 1 Cost: 1.7023617825508117 accuracy: 0.4027045454545455 \n",
      "Epoch: 2 Cost: 1.3719317113269458 accuracy: 0.5357727272727273 \n",
      "Epoch: 3 Cost: 1.229983094215393 accuracy: 0.5961136363636363 \n",
      "Epoch: 4 Cost: 1.1141033100214872 accuracy: 0.6421136363636364 \n",
      "Epoch: 5 Cost: 1.029150279933756 accuracy: 0.6755454545454546 \n",
      "Epoch: 6 Cost: 0.9558794853470542 accuracy: 0.7026136363636364 \n",
      "Epoch: 7 Cost: 0.8951661304343831 accuracy: 0.7279318181818182 \n",
      "Epoch: 8 Cost: 0.8439058328541842 accuracy: 0.7492727272727273 \n",
      "Epoch: 9 Cost: 0.8007489295222543 accuracy: 0.7673409090909091 \n",
      "Epoch: 10 Cost: 0.7572150414640253 accuracy: 0.7865454545454545 \n",
      "Test Accuracy: 0.7298328488372093\n",
      "**************************************************\n",
      "Random = 2\n",
      "Training:Start\n",
      "Epoch: 1 Cost: 1.7531994571685792 accuracy: 0.38729545454545455 \n",
      "Epoch: 2 Cost: 1.4109971478635615 accuracy: 0.5222727272727272 \n",
      "Epoch: 3 Cost: 1.2598372336300936 accuracy: 0.5832954545454545 \n",
      "Epoch: 4 Cost: 1.1538263282342391 accuracy: 0.6298409090909091 \n",
      "Epoch: 5 Cost: 1.0740471850308504 accuracy: 0.6631363636363636 \n",
      "Epoch: 6 Cost: 0.9985068596493114 accuracy: 0.6914772727272728 \n",
      "Epoch: 7 Cost: 0.9386087618741122 accuracy: 0.7147272727272728 \n",
      "Epoch: 8 Cost: 0.8939875820550052 accuracy: 0.7354318181818181 \n",
      "Epoch: 9 Cost: 0.844056420174512 accuracy: 0.7535 \n",
      "Epoch: 10 Cost: 0.7997596893960779 accuracy: 0.7721363636363636 \n",
      "Test Accuracy: 0.7198401162790697\n",
      "**************************************************\n",
      "Random = 3\n",
      "Training:Start\n",
      "Epoch: 1 Cost: 1.7060114365491 accuracy: 0.40493181818181817 \n",
      "Epoch: 2 Cost: 1.3580776779868386 accuracy: 0.5435227272727273 \n",
      "Epoch: 3 Cost: 1.2176482822678305 accuracy: 0.6011136363636363 \n",
      "Epoch: 4 Cost: 1.1043910621729764 accuracy: 0.6458181818181818 \n",
      "Epoch: 5 Cost: 1.0229510558301753 accuracy: 0.6810454545454545 \n",
      "Epoch: 6 Cost: 0.9530781009630723 accuracy: 0.7100909090909091 \n",
      "Epoch: 7 Cost: 0.8927466751011935 accuracy: 0.7333863636363637 \n",
      "Epoch: 8 Cost: 0.8416699346845801 accuracy: 0.7540681818181818 \n",
      "Epoch: 9 Cost: 0.7967303344769912 accuracy: 0.7721363636363636 \n",
      "Epoch: 10 Cost: 0.7516635195341977 accuracy: 0.7902045454545454 \n",
      "Test Accuracy: 0.7356468023255814\n",
      "**************************************************\n",
      "Random = 4\n",
      "Training:Start\n",
      "Epoch: 1 Cost: 1.6897235353643243 accuracy: 0.40925 \n",
      "Epoch: 2 Cost: 1.3600561467084018 accuracy: 0.5448863636363637 \n",
      "Epoch: 3 Cost: 1.2070882118398494 accuracy: 0.6078636363636364 \n",
      "Epoch: 4 Cost: 1.1023640940839594 accuracy: 0.6496590909090909 \n",
      "Epoch: 5 Cost: 1.020008610118519 accuracy: 0.68175 \n",
      "Epoch: 6 Cost: 0.9503960934552279 accuracy: 0.7099545454545455 \n",
      "Epoch: 7 Cost: 0.8914544835524125 accuracy: 0.7341363636363636 \n",
      "Epoch: 8 Cost: 0.8414965019442818 accuracy: 0.7541363636363636 \n",
      "Epoch: 9 Cost: 0.7956912612264807 accuracy: 0.7718863636363636 \n",
      "Epoch: 10 Cost: 0.7548686705069109 accuracy: 0.7886136363636363 \n",
      "Test Accuracy: 0.7274709302325582\n",
      "**************************************************\n",
      "Mean Accuracy: 0.7259629360465117\n"
     ]
    }
   ],
   "source": [
    "# VERİ SETİNİN FARKLI RANDOM-STATE DEĞERLERİ İÇİN TEKRAR EĞİTİLMESİ VE TEST EDİLMESİ\n",
    "\n",
    "with tf.Session(config=config) as sess:\n",
    "    \n",
    "   \n",
    "  random_states = [10, 42, 83, 143, 251]\n",
    "  test_accuracies = []\n",
    "  batch_test_acc = []\n",
    "\n",
    "  \n",
    "  for i in range(5):\n",
    "    sess.run(tf.global_variables_initializer())\n",
    "    X_train, X_test, y_train, y_test = train_test_split(X, y, test_size=0.20, random_state=random_states[i])\n",
    "\n",
    "    total_size = X_train.shape[0]\n",
    "    number_of_batches = int(total_size/batch_size)\n",
    "    print(\"Random =\", str(i))\n",
    "    \n",
    "    print(\"Training:Start\")\n",
    "    # Training Epoch\n",
    "    for e in range(epoch):\n",
    "        # Training Batch\n",
    "        epoch_cost = 0\n",
    "        epoch_accuracy = 0\n",
    "        for i in range(number_of_batches):\n",
    "            mini_x = X_train[i*batch_size:(i+1)*batch_size, :, :, :]\n",
    "            mini_y = y_train[i*batch_size:(i+1)*batch_size, :]\n",
    "            _, cost = sess.run([train_op,loss], feed_dict={x:mini_x, y_true:mini_y,train_mode:True})\n",
    "            train_accuracy = sess.run(accuracy, feed_dict={x:mini_x, y_true:mini_y,train_mode:False})\n",
    "            epoch_cost += cost\n",
    "            epoch_accuracy += train_accuracy\n",
    "        epoch_cost /= number_of_batches\n",
    "\n",
    "        if total_size % batch_size != 0:\n",
    "            epoch_accuracy /= (number_of_batches+1)\n",
    "        else:\n",
    "            epoch_accuracy /= number_of_batches\n",
    "        print(\"Epoch: {} Cost: {} accuracy: {} \".format(e+1, np.squeeze(epoch_cost), epoch_accuracy))\n",
    "    \n",
    "    # Test Batch\n",
    "    total_size = y_test.shape[0]\n",
    "    number_of_batches = int(total_size/batch_size)\n",
    "    test_accuracy = 0\n",
    "    for i in range(number_of_batches):\n",
    "      mini_x = X_test[i*batch_size:(i+1)*batch_size, :, :, :]\n",
    "      mini_y = y_test[i*batch_size:(i+1)*batch_size, :]\n",
    "      batch_accuracy = sess.run(accuracy, feed_dict={x:mini_x, y_true:mini_y,train_mode:False})\n",
    "      test_accuracy += batch_accuracy\n",
    "\n",
    "    if total_size % batch_size != 0:\n",
    "        test_accuracy /= (number_of_batches+1)\n",
    "    else:\n",
    "        test_accuracy /= number_of_batches\n",
    "    print(\"Test Accuracy:\", test_accuracy)\n",
    "\n",
    "    test_accuracies.append(test_accuracy)\n",
    "    print(\"*\"*50)\n",
    "  print(\"Mean Accuracy:\", np.mean(test_accuracies))\n",
    "    "
   ]
  },
  {
   "cell_type": "code",
   "execution_count": 18,
   "metadata": {
    "colab": {
     "autoexec": {
      "startup": false,
      "wait_interval": 0
     },
     "base_uri": "https://localhost:8080/",
     "height": 68
    },
    "colab_type": "code",
    "executionInfo": {
     "elapsed": 3210,
     "status": "ok",
     "timestamp": 1527608186671,
     "user": {
      "displayName": "Zeki Kuş",
      "photoUrl": "https://lh3.googleusercontent.com/a/default-user=s128",
      "userId": "113800785453624523681"
     },
     "user_tz": -180
    },
    "id": "wRb1u_lTgr27",
    "outputId": "913bcc97-3cc3-4491-fa1d-810e042a4277"
   },
   "outputs": [
    {
     "name": "stdout",
     "output_type": "stream",
     "text": [
      "INFO:tensorflow:Restoring parameters from drive/Colab Notebooks/CIFAR-10/model.ckpt\n",
      "Actual Class: [[0. 0. 0. 0. 0. 0. 0. 1. 0. 0.]]\n",
      "Predict Class: [7]\n"
     ]
    }
   ],
   "source": [
    "# Eğitilen modeli istenilen isim ile kaydedebilirsiniz.\n",
    "\n",
    "# Eğitilen model ile tahmin işleminin gerçekleştirilmesi\n",
    "saver = tf.train.Saver()\n",
    "with tf.Session(config=config) as sess:\n",
    "    saver.restore(sess, \"drive/Colab Notebooks/CIFAR-10/model.ckpt\")\n",
    "    prediction = tf.argmax(y_pred, 1)\n",
    "    print(\"Actual Class:\",y_train[100:101,:])\n",
    "    print(\"Predict Class:\",prediction.eval(feed_dict={x:x_train[100:101,:,:,:],train_mode:False}))"
   ]
  },
  {
   "cell_type": "code",
   "execution_count": 0,
   "metadata": {
    "colab": {
     "autoexec": {
      "startup": false,
      "wait_interval": 0
     }
    },
    "colab_type": "code",
    "id": "Tv99gFncZ5W7"
   },
   "outputs": [],
   "source": [
    "import os\n",
    "import cv2\n",
    "from tqdm import tqdm\n",
    "\n",
    "TEST_DIR = 'drive/Colab Notebooks/CIFAR-10/Test_Images'\n",
    "IMG_SIZE = 32\n",
    "\n",
    "# Bu kısmı dışarıdan kullanıcı resim verdiğinde direkt olarak ağın anlayabileceği sayısal değerlere nasıl dönüştürüleceğini anlatabilmek adına yazdım.\n",
    "# Verilen klasördeki resimler okunur ve ağın anlayabileceği sayısal verilere dönüştürülür. OpenCV kütüphanesi ile kullanılır.\n",
    "def process_test_data():\n",
    "    testing_data = []\n",
    "    for img in tqdm(os.listdir(TEST_DIR)):\n",
    "        label = img\n",
    "        path = TEST_DIR + '/' + img\n",
    "        img = cv2.imread(path,1)\n",
    "        img = cv2.resize(img, (IMG_SIZE,IMG_SIZE))\n",
    "        testing_data.append([np.array(img),label])\n",
    "      \n",
    "    # Elde edilen matris istenirse .npy formatında kaydedilip. Paylaşılabilir.\n",
    "    #shuffle(testing_data)\n",
    "    #np.save('test_data_bi.npy', testing_data)\n",
    "    return testing_data"
   ]
  },
  {
   "cell_type": "code",
   "execution_count": 0,
   "metadata": {
    "colab": {
     "autoexec": {
      "startup": false,
      "wait_interval": 0
     }
    },
    "colab_type": "code",
    "id": "xwit8Y7Xi1ih"
   },
   "outputs": [],
   "source": [
    "# Load Data\n",
    "my_images = process_test_data()\n",
    "\n",
    "# Reshape Data\n",
    "test_img = np.array([i[0] for i in my_images]).reshape(-1,IMG_SIZE,IMG_SIZE,3)\n",
    "labels = np.array([i[1] for i in my_images])"
   ]
  },
  {
   "cell_type": "code",
   "execution_count": 95,
   "metadata": {
    "colab": {
     "autoexec": {
      "startup": false,
      "wait_interval": 0
     },
     "base_uri": "https://localhost:8080/",
     "height": 398
    },
    "colab_type": "code",
    "executionInfo": {
     "elapsed": 1854,
     "status": "ok",
     "timestamp": 1527610384311,
     "user": {
      "displayName": "Zeki Kuş",
      "photoUrl": "https://lh3.googleusercontent.com/a/default-user=s128",
      "userId": "113800785453624523681"
     },
     "user_tz": -180
    },
    "id": "S1mHnZbulH2C",
    "outputId": "fa1d0d17-abec-4aeb-cf76-0f5a2a2e65ee"
   },
   "outputs": [
    {
     "name": "stdout",
     "output_type": "stream",
     "text": [
      "INFO:tensorflow:Restoring parameters from drive/Colab Notebooks/CIFAR-10/model.ckpt\n",
      "Actual Class: ucak.jpg\n",
      "Predict Class: Uçak\n"
     ]
    },
    {
     "data": {
      "image/png": "[encoded data removed]",
      "text/plain": [
       "<matplotlib.figure.Figure at 0x7f1dc469cf60>"
      ]
     },
     "metadata": {
      "tags": []
     },
     "output_type": "display_data"
    }
   ],
   "source": [
    "saver = tf.train.Saver()\n",
    "cifar_classes = {0:'Uçak',1:'Otomobil',2:'Kuş',3:'Kedi',4:'Geyik',5:'Köpek',6:'Kurbağa',7:'At',8:'Gemi',9:'Tır'}\n",
    "\n",
    "# Resimlerden tahminlere.\n",
    "with tf.Session(config=config) as sess:\n",
    "    saver.restore(sess, \"drive/Colab Notebooks/CIFAR-10/model.ckpt\")\n",
    "    prediction = tf.argmax(y_pred, 1)\n",
    "    index = 0\n",
    "    pred_Val = prediction.eval(feed_dict={x:test_img[index:index+1,:,:,:],train_mode:False})\n",
    "    print(\"Actual Class:\",labels[index])\n",
    "    print(\"Predict Class:\",cifar_classes[pred_Val[0]])\n",
    "    plt.imshow(test_img[index])"
   ]
  },
  {
   "cell_type": "code",
   "execution_count": 0,
   "metadata": {
    "colab": {
     "autoexec": {
      "startup": false,
      "wait_interval": 0
     }
    },
    "colab_type": "code",
    "id": "EBw7aWGZlYPM"
   },
   "outputs": [],
   "source": []
  }
 ],
 "metadata": {
  "accelerator": "GPU",
  "colab": {
   "collapsed_sections": [],
   "default_view": {},
   "name": "CIFAR10_Parameter_Test.ipynb",
   "provenance": [],
   "version": "0.3.2",
   "views": {}
  },
  "kernelspec": {
   "display_name": "Python 3",
   "language": "python",
   "name": "python3"
  },
  "language_info": {
   "codemirror_mode": {
    "name": "ipython",
    "version": 3
   },
   "file_extension": ".py",
   "mimetype": "text/x-python",
   "name": "python",
   "nbconvert_exporter": "python",
   "pygments_lexer": "ipython3",
   "version": "3.6.4"
  }
 },
 "nbformat": 4,
 "nbformat_minor": 1
}
