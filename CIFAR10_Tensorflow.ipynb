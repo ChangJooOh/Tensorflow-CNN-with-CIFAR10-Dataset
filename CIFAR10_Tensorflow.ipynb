{
 "cells": [
  {
   "cell_type": "code",
   "execution_count": 1,
   "metadata": {
    "colab": {
     "autoexec": {
      "startup": false,
      "wait_interval": 0
     },
     "base_uri": "https://localhost:8080/",
     "height": 105
    },
    "colab_type": "code",
    "executionInfo": {
     "elapsed": 17911,
     "status": "ok",
     "timestamp": 1525441595213,
     "user": {
      "displayName": "Zeki Kuş",
      "photoUrl": "https://lh3.googleusercontent.com/a/default-user=s128",
      "userId": "113800785453624523681"
     },
     "user_tz": -180
    },
    "id": "eZ3xO8XDZBfy",
    "outputId": "3e209c5f-b267-471d-e08b-5380bae0a027"
   },
   "outputs": [
    {
     "name": "stdout",
     "output_type": "stream",
     "text": [
      "Please, open the following URL in a web browser: https://accounts.google.com/o/oauth2/auth?client_id=32555940559.apps.googleusercontent.com&redirect_uri=urn%3Aietf%3Awg%3Aoauth%3A2.0%3Aoob&scope=https%3A%2F%2Fwww.googleapis.com%2Fauth%2Fdrive&response_type=code&access_type=offline&approval_prompt=force\r\n",
      "··········\n",
      "Please, open the following URL in a web browser: https://accounts.google.com/o/oauth2/auth?client_id=32555940559.apps.googleusercontent.com&redirect_uri=urn%3Aietf%3Awg%3Aoauth%3A2.0%3Aoob&scope=https%3A%2F%2Fwww.googleapis.com%2Fauth%2Fdrive&response_type=code&access_type=offline&approval_prompt=force\n",
      "Please enter the verification code: Access token retrieved correctly.\n"
     ]
    }
   ],
   "source": [
    "!apt-get install -y -qq software-properties-common python-software-properties module-init-tools\n",
    "!add-apt-repository -y ppa:alessandro-strada/ppa 2>&1 > /dev/null\n",
    "!apt-get update -qq 2>&1 > /dev/null\n",
    "!apt-get -y install -qq google-drive-ocamlfuse fuse\n",
    "from google.colab import auth\n",
    "auth.authenticate_user()\n",
    "from oauth2client.client import GoogleCredentials\n",
    "creds = GoogleCredentials.get_application_default()\n",
    "import getpass\n",
    "!google-drive-ocamlfuse -headless -id={creds.client_id} -secret={creds.client_secret} < /dev/null 2>&1 | grep URL\n",
    "vcode = getpass.getpass()\n",
    "!echo {vcode} | google-drive-ocamlfuse -headless -id={creds.client_id} -secret={creds.client_secret}"
   ]
  },
  {
   "cell_type": "code",
   "execution_count": 26,
   "metadata": {
    "colab": {
     "autoexec": {
      "startup": false,
      "wait_interval": 0
     },
     "base_uri": "https://localhost:8080/",
     "height": 34
    },
    "colab_type": "code",
    "executionInfo": {
     "elapsed": 2858,
     "status": "ok",
     "timestamp": 1525450370484,
     "user": {
      "displayName": "Zeki Kuş",
      "photoUrl": "https://lh3.googleusercontent.com/a/default-user=s128",
      "userId": "113800785453624523681"
     },
     "user_tz": -180
    },
    "id": "D00Qk8m3ZF7N",
    "outputId": "3a9bf77a-4ac8-4105-c35a-38d2777215e1"
   },
   "outputs": [
    {
     "name": "stdout",
     "output_type": "stream",
     "text": [
      "/bin/sh: 1: google-drive-ocamlfuse: not found\r\n"
     ]
    }
   ],
   "source": [
    "!mkdir -p drive\n",
    "!google-drive-ocamlfuse drive"
   ]
  },
  {
   "cell_type": "markdown",
   "metadata": {},
   "source": [
    "## 1 - Import Libraries\n",
    "\n",
    "Veri setinin elde edilmesi için keras kütüphanesi,\n",
    "\n",
    "Matematiksel işlemler ve matrislerin düzenlenmesi için numpy kütüphanesi,\n",
    "\n",
    "Konvolüsyonel sinir ağının oluşturulması ve eğitilmesi için tensorflow kütüphanesi import edildi.\n"
   ]
  },
  {
   "cell_type": "code",
   "execution_count": 1,
   "metadata": {
    "colab": {
     "autoexec": {
      "startup": false,
      "wait_interval": 0
     },
     "base_uri": "https://localhost:8080/",
     "height": 34
    },
    "colab_type": "code",
    "executionInfo": {
     "elapsed": 7676,
     "status": "ok",
     "timestamp": 1525444769358,
     "user": {
      "displayName": "Zeki Kuş",
      "photoUrl": "https://lh3.googleusercontent.com/a/default-user=s128",
      "userId": "113800785453624523681"
     },
     "user_tz": -180
    },
    "id": "F_AD0Kg7ZIav",
    "outputId": "efd4bf6c-c624-4a67-c492-4ef6679ee2e1"
   },
   "outputs": [
    {
     "name": "stderr",
     "output_type": "stream",
     "text": [
      "/home/zekikus/anaconda3/lib/python3.6/site-packages/h5py/__init__.py:36: FutureWarning: Conversion of the second argument of issubdtype from `float` to `np.floating` is deprecated. In future, it will be treated as `np.float64 == np.dtype(float).type`.\n",
      "  from ._conv import register_converters as _register_converters\n",
      "Using TensorFlow backend.\n"
     ]
    }
   ],
   "source": [
    "import numpy as np     # Matematiksel işlemler\n",
    "import pandas as pd    # Veri setinin düzenlenmesi\n",
    "import tensorflow as tf  # Sinir ağının kurulması ve eğitilmesi\n",
    "from sklearn.model_selection import train_test_split    # Eğitim ve Test verilerinin ayrıştırılması\n",
    "from keras.utils import to_categorical  # Çıktıların kategorize edilmesi\n",
    "import matplotlib.pyplot as plt # Grafik çizimi\n",
    "import keras \n",
    "from keras.datasets import cifar10  # Veri setini elde etmek için"
   ]
  },
  {
   "cell_type": "markdown",
   "metadata": {},
   "source": [
    "## 2 - Data Preprocessing\n",
    "\n",
    "Verinin model tarafından işlenebilecek hale getirilmesi için düzenlenmesi gerekir. \n",
    "\n",
    "- İstenen Girdi Formatı:\n",
    "[Filtre sayısı, Girdi Yüksekliği, Girdi Genişliği, Kanal Sayısı]\n",
    "\n",
    "Format belirledikten sonra veri seti test,cross_Validation ve train olarak ayrılır.\n",
    "Aynı zamanda çıktılar 10 sınıftan oluştuğu etiketler one-hot vektöre dönüştürülür."
   ]
  },
  {
   "cell_type": "code",
   "execution_count": 2,
   "metadata": {
    "colab": {
     "autoexec": {
      "startup": false,
      "wait_interval": 0
     },
     "base_uri": "https://localhost:8080/",
     "height": 51
    },
    "colab_type": "code",
    "executionInfo": {
     "elapsed": 72988,
     "status": "ok",
     "timestamp": 1525444842471,
     "user": {
      "displayName": "Zeki Kuş",
      "photoUrl": "https://lh3.googleusercontent.com/a/default-user=s128",
      "userId": "113800785453624523681"
     },
     "user_tz": -180
    },
    "id": "hDLtWk3YgZZ6",
    "outputId": "a0f59aa5-1fb2-466f-c38d-60b4c2e8fe5a"
   },
   "outputs": [],
   "source": [
    "(x_train, y_train), (x_test, y_test) = cifar10.load_data()"
   ]
  },
  {
   "cell_type": "code",
   "execution_count": 3,
   "metadata": {
    "colab": {
     "autoexec": {
      "startup": false,
      "wait_interval": 0
     }
    },
    "colab_type": "code",
    "id": "NLA2494IZPJX"
   },
   "outputs": [],
   "source": [
    "input_shape = [None, 32, 32, 3]\n",
    "number_of_classes = 10\n",
    "\n",
    "# Çıktı etiketlerinin one-hot vektöre çevrilmesi\n",
    "y_train = to_categorical(y_train, number_of_classes)\n",
    "y_test = to_categorical(y_test, number_of_classes)"
   ]
  },
  {
   "cell_type": "markdown",
   "metadata": {},
   "source": [
    "## 3 - Dataset Information"
   ]
  },
  {
   "cell_type": "markdown",
   "metadata": {},
   "source": [
    "CIFAR(Canadian Institute For Advanced Research) veri seti, bilgisayarlı görü(computer vision)\n",
    "çalışmaları için geliştirilen bir veri setidir. Veri seti Alex Krizhevsky, Vinod Nair ve Geoffrey Hinton\n",
    "tarafından toplandı. <br/>\n",
    "\n",
    "CIFAR-10 veri seti 32x32 boyutunda renkli küçük görüntülerden oluşmaktadır. Veri seti 10 sınıf\n",
    "içermektedir ve sınıf başına 6.000 olmak üzere toplamda 60.000 görüntüden oluşmaktadır.\n",
    "Bunların 50.000’i eğitim, 10.000’i test için kullanılmaktadır. CIFAR-10 Veri seti şu sınıfları içermektedir:\n",
    "- Uçak  \n",
    "- Otomobil\n",
    "- Kuş\n",
    "- Kedi\n",
    "- Geyik\n",
    "- Köpek\n",
    "- Kurbağa\n",
    "- At\n",
    "- Gemi\n",
    "- Tır\n",
    "\n",
    "    <img src=\"images/cifar10.jpg\" style=\"width:800px;height:500px;\">"
   ]
  },
  {
   "cell_type": "code",
   "execution_count": 11,
   "metadata": {
    "colab": {
     "autoexec": {
      "startup": false,
      "wait_interval": 0
     },
     "base_uri": "https://localhost:8080/",
     "height": 364
    },
    "colab_type": "code",
    "executionInfo": {
     "elapsed": 555,
     "status": "ok",
     "timestamp": 1525444859785,
     "user": {
      "displayName": "Zeki Kuş",
      "photoUrl": "https://lh3.googleusercontent.com/a/default-user=s128",
      "userId": "113800785453624523681"
     },
     "user_tz": -180
    },
    "id": "rtF8G7YZZ8IJ",
    "outputId": "01b296e1-3445-4935-9f62-b64b718c62e6"
   },
   "outputs": [
    {
     "name": "stdout",
     "output_type": "stream",
     "text": [
      "y =  [0. 0. 0. 0. 0. 0. 0. 0. 0. 1.]\n"
     ]
    },
    {
     "data": {
      "image/png": "[encoded data removed]",
      "text/plain": [
       "<matplotlib.figure.Figure at 0x7f10ac0efe80>"
      ]
     },
     "metadata": {},
     "output_type": "display_data"
    }
   ],
   "source": [
    "# Veri setinden örnek görüntü ve çıktı\n",
    "plt.imshow(x_train[1])\n",
    "print(\"y = \",y_train[1])"
   ]
  },
  {
   "cell_type": "code",
   "execution_count": 12,
   "metadata": {},
   "outputs": [
    {
     "name": "stdout",
     "output_type": "stream",
     "text": [
      "y =  [0. 1. 0. 0. 0. 0. 0. 0. 0. 0.]\n"
     ]
    },
    {
     "data": {
      "image/png": "[encoded data removed]",
      "text/plain": [
       "<matplotlib.figure.Figure at 0x7f10ac06ee48>"
      ]
     },
     "metadata": {},
     "output_type": "display_data"
    }
   ],
   "source": [
    "# Veri setinden örnek görüntü ve çıktı\n",
    "plt.imshow(x_train[5])\n",
    "print(\"y = \",y_train[5])"
   ]
  },
  {
   "cell_type": "code",
   "execution_count": 4,
   "metadata": {
    "colab": {
     "autoexec": {
      "startup": false,
      "wait_interval": 0
     },
     "base_uri": "https://localhost:8080/",
     "height": 85
    },
    "colab_type": "code",
    "executionInfo": {
     "elapsed": 586,
     "status": "ok",
     "timestamp": 1525444856773,
     "user": {
      "displayName": "Zeki Kuş",
      "photoUrl": "https://lh3.googleusercontent.com/a/default-user=s128",
      "userId": "113800785453624523681"
     },
     "user_tz": -180
    },
    "id": "0X-ZefV4hi1z",
    "outputId": "a4343bf0-b510-4836-e930-37ead00e0e33"
   },
   "outputs": [
    {
     "name": "stdout",
     "output_type": "stream",
     "text": [
      "Shape of training features: (50000, 32, 32, 3)\n",
      "Shape of training lables: (50000, 10)\n",
      "Shape of testing features: (10000, 32, 32, 3)\n",
      "Shape of testing lables: (10000, 10)\n"
     ]
    }
   ],
   "source": [
    "print(\"Shape of training features: {}\".format(x_train.shape))\n",
    "print(\"Shape of training lables: {}\".format(y_train.shape))\n",
    "print(\"Shape of testing features: {}\".format(x_test.shape))\n",
    "print(\"Shape of testing lables: {}\".format(y_test.shape))"
   ]
  },
  {
   "cell_type": "code",
   "execution_count": 5,
   "metadata": {
    "colab": {
     "autoexec": {
      "startup": false,
      "wait_interval": 0
     },
     "base_uri": "https://localhost:8080/",
     "height": 51
    },
    "colab_type": "code",
    "executionInfo": {
     "elapsed": 1506,
     "status": "ok",
     "timestamp": 1525444862531,
     "user": {
      "displayName": "Zeki Kuş",
      "photoUrl": "https://lh3.googleusercontent.com/a/default-user=s128",
      "userId": "113800785453624523681"
     },
     "user_tz": -180
    },
    "id": "5An8SAuhaQF7",
    "outputId": "b1c2ff02-c272-4324-9bcc-e1ecb36062d9"
   },
   "outputs": [
    {
     "name": "stdout",
     "output_type": "stream",
     "text": [
      "Number of examples in training set: 45000\n",
      "Number of examples in cross validation set: 5000\n"
     ]
    }
   ],
   "source": [
    "x_train, cv_x, y_train, cv_y = train_test_split(x_train, y_train, \n",
    "                                                test_size = 5000, random_state = 42)\n",
    "\n",
    "print(\"Number of examples in training set: {}\".format(x_train.shape[0]))\n",
    "print(\"Number of examples in cross validation set: {}\".format(cv_x.shape[0]))"
   ]
  },
  {
   "cell_type": "code",
   "execution_count": 6,
   "metadata": {
    "colab": {
     "autoexec": {
      "startup": false,
      "wait_interval": 0
     }
    },
    "colab_type": "code",
    "id": "6wuLKvcRkamg"
   },
   "outputs": [],
   "source": [
    "x_train = x_train.astype('float32')\n",
    "x_test = x_test.astype('float32')\n",
    "x_train /= 255\n",
    "x_test /= 255"
   ]
  },
  {
   "cell_type": "markdown",
   "metadata": {},
   "source": [
    "## 4 - Define Functions"
   ]
  },
  {
   "cell_type": "code",
   "execution_count": 0,
   "metadata": {
    "colab": {
     "autoexec": {
      "startup": false,
      "wait_interval": 0
     }
    },
    "colab_type": "code",
    "id": "dusSPSGEhQ0v"
   },
   "outputs": [],
   "source": [
    "# Hiper parametreler\n",
    "learning_rate = 0.01\n",
    "epoch = 50\n",
    "batch_size = 32"
   ]
  },
  {
   "cell_type": "code",
   "execution_count": null,
   "metadata": {},
   "outputs": [],
   "source": [
    "#Konvolüsyon katmanındaki ilk ağırlıkların standart sapması 0.1 olan normal dağılıma göre ataması yapılır.\n",
    "def init_weights(shape):\n",
    "    init_random_dist = tf.truncated_normal(shape, stddev=0.1)\n",
    "    return tf.Variable(init_random_dist)\n",
    "\n",
    "#Bias değerleri 0.1 olarak atanır.\n",
    "def init_bias(shape):\n",
    "    init_bias_vals = tf.constant(0.1, shape=shape)\n",
    "    return tf.Variable(init_bias_vals)"
   ]
  },
  {
   "cell_type": "markdown",
   "metadata": {},
   "source": [
    "### 4.1 Convolution Layer\n",
    "\n",
    "Bu bölümde konvolüsyon işleminden ve konvolüsyon katmanından bahsedeceğiz. Konvolüsyon katmanı temelde şu adımlardan oluşur:\n",
    "\n",
    "- Belirli bir boyuta sahip girdi alır.\n",
    "- Girdinin her pozisyonuna filtre uygular.\n",
    "- Belirlenen parametrelere göre farklı veya aynı boyutta bir çıktı verir.\n",
    "\n",
    "Konvolüsyon işlemi verilen girdi üzerindeki özellik haritalarının keşfedilmesi için kullanılır. Bu özelliklerin doğru bir şekilde keşfedilmesi için filtre boyutu ve adım sayısı gibi parametreler çok önemlidir.\n",
    "\n",
    " - **Adım Sayısı(Stride):** Filtre adım sayısını belirtir.\n",
    " - **Dış boşluk(Padding):** Filtrele eklenecek dış boşluk sayısını belirtir. Padding genel olarak girdi ile çıktı boyutunun aynı olmasının istendiği durumlarda eklenir.\n",
    " - Son olarakta filtre boyutu belirlenir.\n",
    " \n",
    "**Bu Parametreler Nasıl Seçilmeli:** Konvolüsyon katmanında seçilen parametreler sonucu doğrudan etkilemektedir. Adım sayısının ve filtre boyutunun büyük seçilmesi, girdi üzerindeki birçok özelliğin kaybedilmesine neden olabilir. Aynı zamanda adım sayısı ve filtre boyutunun küçük seçilmesi özelliklerin yakalanmasını sağlayabilir fakat hesaplama süresini ve işlem yükünü arttırabilir. Bu nedenlerden dolayı bu parametrelerin doğru bir şekilde seçilmesi çok önemlidir.\n",
    "\n",
    "Aşağıdaki şekilde tek kanaldan oluşan bir girdi için konvolüsyon işlemi gösterilmektedir.\n",
    "\n",
    "<img src=\"images/Convolution_schematic.gif\" style=\"width:400px;height:300px;\">\n",
    "\n",
    "Aşağıdaki şekilde kanal sayısı 3 olan bir girdi üzerine 3x3x3 boyutunda bir filtre uygulanması sonucu elde edilen\n",
    "3x3x2 boyutunda çıktı görülmektedir. Çıktı boyutuna bakıldığında, 3-> genişlik, 3->yükseklik ve 2->filtre sayısını temsil etmektedir\n",
    "\n",
    "<img src=\"images/1.gif\" style=\"width:600px;height:400px;\">\n",
    "<img src=\"images/rgb.gif\" style=\"width:600px;height:400px;\">\n",
    "\n",
    "\n",
    "**Hatırlatıcı:**\n",
    "    Konvolüsyon işleminden sonra elde edilecek çıktıların boyutu şu işlemlere göre hesaplanır:\n",
    "    $$ n_H = \\lfloor \\frac{n_{H_{prev}} - f + 2 \\times pad}{stride} \\rfloor +1 $$\n",
    "    $$ n_W = \\lfloor \\frac{n_{W_{prev}} - f + 2 \\times pad}{stride} \\rfloor +1 $$\n",
    "    $$ n_C = \\text{Konvolüsyonda kullanılan filtre sayısı}$$\n",
    "    \n",
    "### 4.2 Rectifier Linear Unit (ReLu)\n",
    "- Her konvolüsyon katmanından sonra uygulanır.\n",
    "- Girdi içerisindeki bütün negatif piksel değerlerini, sıfır ile değiştirir.\n",
    "\n",
    "<img src=\"images/relu.png\" style=\"width:300px;height:200px;\">\n",
    "\n",
    "ReLu, tanh ve eş değelerinden birkaç kat daha hızlı çalışır.<br/><br/>\n",
    "ReLu'nun daha iyi olmasının nedeni kabaca doyum noktası olmamasıdır(non-saturating). ReLu aktivasyon fonksiyonu f(x) = max(0,x) şeklinde formüle edilir. Yani bütün değerler [0, +sonsuz] aralığındadır.<br/><br/>\n",
    "Fakat diğer aktivasyon fonksiyonlarına baktığımızda;<br/><br/>\n",
    "Sigmoid = [0,1] aralığına ve tanh = [-1,1] aralığına noktaları indirger. Çok derin sinir ağlarında bu fonksiyonlar belirli bir noktadan sonra doyuma ulaşır. Fakat ReLu'da durum böyle değildir. Bu yüzden tercih edilir."
   ]
  },
  {
   "cell_type": "code",
   "execution_count": null,
   "metadata": {},
   "outputs": [],
   "source": [
    "# Konvolüsyon işlemini gerçekleştiren fonksiyon tanımlanır.\n",
    "# Parametreler:\n",
    "# Stride: Adım sayısı her zaman 1 olarak seçilmiş. Değiştirilebilir.\n",
    "# Padding: SAME olarak seçilmiş. Yani konvolüsyon işlemi uygulandıktan sonra çıktı boyutu küçülmeyecek.\n",
    "# Girdi ve çıktı boyutu aynı kalacak. Resim boyutu küçük olduğu için kullanıldı.\n",
    "def conv2d(x, W):\n",
    "    return tf.nn.conv2d(x, W, strides=[1, 1, 1, 1], padding='SAME')\n",
    "\n",
    "    \n",
    "# Konvolüsyon katmanı işlemleri gerçekleştirilir.\n",
    "# Konvolüsyon -> ReLu\n",
    "def convolutional_layer(input_x, shape):\n",
    "    W = init_weights(shape)\n",
    "    b = init_bias([shape[3]])\n",
    "    return tf.nn.relu(conv2d(input_x, W) + b)\n",
    "\n",
    "# Alternatif olarak Tensorflow son versiyon ile gelen fonksiyon kullanılabilir. \"nn.conv2d\" ve \"layers.conv2d\"\n",
    "# neredeyse aynıdır. Fakat \"layers.conv2d\" yapılandırıcısı çok daha fazla parametreye sahiptir ve daha esnektir.\n",
    "tf.layers.conv2d(inputs=x,filters=32, kernel_size = [3,3], padding=\"same\", activation=tf.nn.relu)\n"
   ]
  },
  {
   "cell_type": "markdown",
   "metadata": {},
   "source": [
    "### 4.3 Pooling Layer\n",
    "Havuzlama(Pooling) katmanı, girdinin yüksekliğini ve genişliğini azaltır. Hesaplama yükünü azaltmaya yardımcı olur. Sıklıkla kullanılan iki tür havuzlama(pooling) yöntemi vardır:\n",
    "\n",
    "- **Max-pooling layer:** Maksimum havuzlama yönteminde, belirli bir adım değerine(stride) göre havuzlama filtresi girdi üzerinde dolaşır ve girdi üzerinde filtrenin bulunduğu alana karşılık gelen kısım içerisindeki maksimum değeri, çıktıda karşılık gelen alana yerleştirir.\n",
    "- **Average-pooling layer:** Aynı işlem ortalama havuzlama işlemi için de geçerlidir. Fakat bu sefer maksimum eleman yerine girdide filtrenin bulunduğu alana karşılık gelen kısımdaki değerlerin ortalaması çıktı olarak verilir.\n",
    "<img src=\"images/Stride_2_Max_Avg_Pooling.png\" style=\"width:600px;height:300px;\"><br/>\n",
    "<img src=\"images/pooling.gif\" style=\"width:400px;height:200px;\">\n",
    "\n",
    "**Hatırlatıcı:**\n",
    "    Dış boşluk(padding) olmadığı için havuzlama işlemi sonrası elde edilecek çıktı boyutu aşağıdaki formüllere göre hesaplanır. Dikkat edilirse havuzlama işleminden sonra kanal sayısı değişmemektedir. Ayrıca konvolüsyon katmanından farklı olarak havuzlama katmanından öğrenilmesi gereken bir parametre yoktur. Sadece adım sayısı ve filtre boyutu belirlenir. Konvolüsyon işleminde ise filtre katsayıları belirli bir öğrenme algoritmasına göre öğrenilip, güncellenir.\n",
    "    $$ n_H = \\lfloor \\frac{n_{H_{prev}} - f}{stride} \\rfloor +1 $$\n",
    "    $$ n_W = \\lfloor \\frac{n_{W_{prev}} - f}{stride} \\rfloor +1 $$\n",
    "    $$ n_C = n_{C_{prev}}$$"
   ]
  },
  {
   "cell_type": "code",
   "execution_count": null,
   "metadata": {},
   "outputs": [],
   "source": [
    "# Maksimum havuzlama işlemini gerçekleştiren fonksiyon tanımlanır.\n",
    "# Parametreler:\n",
    "# Stride: Adım sayısı her zaman 2 olarak seçilmiş. Değiştirilebilir.\n",
    "# ksize: Kernel size, Filter size aynı şey. Filtre boyutu seçilmiş.\n",
    "def max_pool_2by2(x):\n",
    "    return tf.nn.max_pool(x, ksize=[1, 2, 2, 1],strides=[1, 2, 2, 1])\n",
    "\n",
    "# Alternatif\n",
    "tf.layers.max_pooling2d(inputs=convo_2, pool_size=[2, 2], strides=2)"
   ]
  },
  {
   "cell_type": "markdown",
   "metadata": {},
   "source": [
    "### 4.4 Fully Connected Layer\n",
    "\n",
    "Çok katmanlı yapay sinir ağlarında olduğu gibi birbirlerine tamamen bağlı olan nöronları içerir. Daha önceki katmanda öğrenilen özelliklere göre girdinin sınıflandırılması yapılır. \n",
    "\n",
    "<img src=\"images/fully_connected.png\" style=\"width:600px;height:300px;\">"
   ]
  },
  {
   "cell_type": "code",
   "execution_count": null,
   "metadata": {},
   "outputs": [],
   "source": [
    "# Tam Bağlantılı Katman fonksiyonu oluşturulur.\n",
    "def normal_full_layer(input_layer, size):\n",
    "    input_size = int(input_layer.get_shape()[1])\n",
    "    W = init_weights([input_size, size])\n",
    "    b = init_bias([size])\n",
    "    return tf.matmul(input_layer, W) + b\n",
    "\n",
    "# Alternatif\n",
    "tf.layers.dense(inputs=flatten, units = 512, activation=tf.nn.relu)"
   ]
  },
  {
   "cell_type": "markdown",
   "metadata": {},
   "source": [
    "### 4.5 Softmax\n",
    "\n",
    "Softmax fonksiyonu yapay sinir ağı tarafından üretilen skor değerlerini kullanarak olasılık temelli loss değeri üretmektedir. Softmax sonucunda test girdisinin her bir sınıfa ait benzerliği için olasılık değeri üretilir. Yapay sinir ağı modelinin çıktı olarak verdiği skor değerler normalize edilmemiş değerlerdir. Softmax bu değerleri normalize ederek olasılık değerlerine dönüştürmektedir. Olasılık değerine dönüştürme işlemini istatistikte sıkça kullanılan en çok olabilirlik (maximum likelihood) fonksiyonuyla yapmaktadır. Değerler çok büyük değerler olduğu için likelihood fonksiyonun log'nu alarak dağılımın yapısını korumaktadır.\n",
    "<img src=\"images/softmax.png\" style=\"width:600px;height:300px;\">"
   ]
  },
  {
   "cell_type": "markdown",
   "metadata": {},
   "source": [
    "## 5 - Create Model"
   ]
  },
  {
   "cell_type": "code",
   "execution_count": 0,
   "metadata": {
    "colab": {
     "autoexec": {
      "startup": false,
      "wait_interval": 0
     }
    },
    "colab_type": "code",
    "id": "wjUQYHBSiPik"
   },
   "outputs": [],
   "source": [
    "#Tensorflow Graph Oluşturulması\n",
    "\n",
    "# Graph Reset\n",
    "tf.reset_default_graph()\n",
    "\n",
    "# Placeholder tanımlama\n",
    "x = tf.placeholder(tf.float32,shape=[None,32,32,3])\n",
    "y_true = tf.placeholder(tf.float32,shape=[None,10])\n",
    "train_mode = tf.placeholder(tf.bool)\n",
    "\n",
    "config = tf.ConfigProto(allow_soft_placement=True)\n",
    "config.gpu_options.allow_growth = True\n",
    "config.gpu_options.allocator_type = 'BFC'\n",
    "\n",
    "with tf.name_scope('Model'):\n",
    "    #Convolutional Layer 1 + RELU\n",
    "    convo_1 = tf.layers.conv2d(inputs=x,filters=32, kernel_size = [3,3], padding=\"same\", activation=tf.nn.relu)\n",
    "    #Convolutional Layer 2 + RELU\n",
    "    convo_2 = tf.layers.conv2d(inputs=convo_1,filters=32, kernel_size = [3,3], activation=tf.nn.relu)\n",
    "    #Pooling Layer 1\n",
    "    pooling_1 = tf.layers.max_pooling2d(inputs=convo_2, pool_size=[2, 2], strides=2)\n",
    "    dropout_1 = tf.layers.dropout(pooling_1,rate=0.25, training= train_mode)\n",
    "    \n",
    "    #Convolutional Layer 3 + RELU\n",
    "    convo_3 = tf.layers.conv2d(inputs=dropout_1,filters=64, kernel_size = [3,3], padding=\"same\", activation=tf.nn.relu)\n",
    "    #Convolutional Layer 4 + RELU\n",
    "    convo_4 = tf.layers.conv2d(inputs=convo_3,filters=64, kernel_size = [3,3], activation=tf.nn.relu)\n",
    "    #Pooling Layer 2\n",
    "    pooling_2 = tf.layers.max_pooling2d(inputs=convo_4, pool_size=[2, 2], strides=2)\n",
    "    dropout_2 = tf.layers.dropout(pooling_2,rate=0.25, training= train_mode)\n",
    "    \n",
    "    #Flattening\n",
    "    flatten = tf.reshape(dropout_2,[-1,6*6*64])\n",
    "    #Fully Connected 1 + RELU\n",
    "    full_layer_one = tf.layers.dense(inputs=flatten, units = 512, activation=tf.nn.relu)\n",
    "    #Dropout Layer 1\n",
    "    full_one_dropout = tf.layers.dropout(full_layer_one,rate=0.5, training= train_mode)\n",
    "    #Output Layer,containing 2 output nodes.\n",
    "    y_pred = tf.layers.dense(inputs=full_one_dropout,units=10)\n",
    "\n",
    "# Kayıp Fonksiyonu\n",
    "# Softmax girdinin her bir sınıfa ne kadar benzediğine dair olasılık değeri üretmektedir.\n",
    "with tf.name_scope('Loss'):\n",
    "    loss = tf.losses.softmax_cross_entropy(y_true, y_pred)\n",
    "\n",
    "# Optimizer Fonksiyonu\n",
    "with tf.name_scope('ADAM'):\n",
    "     train_op = tf.train.AdamOptimizer(learning_rate=0.0001).minimize(loss)\n",
    "\n",
    "# Performans Metriği\n",
    "with tf.name_scope('Accuracy'):\n",
    "    accuracy = tf.reduce_mean(tf.cast(tf.equal(tf.argmax(y_pred, 1), tf.argmax(y_true, 1)), tf.float32))"
   ]
  },
  {
   "cell_type": "code",
   "execution_count": 15,
   "metadata": {
    "colab": {
     "autoexec": {
      "startup": false,
      "wait_interval": 0
     },
     "base_uri": "https://localhost:8080/",
     "height": 918
    },
    "colab_type": "code",
    "executionInfo": {
     "elapsed": 956371,
     "status": "ok",
     "timestamp": 1525448284607,
     "user": {
      "displayName": "Zeki Kuş",
      "photoUrl": "https://lh3.googleusercontent.com/a/default-user=s128",
      "userId": "113800785453624523681"
     },
     "user_tz": -180
    },
    "id": "hyTMyp27korl",
    "outputId": "715e4442-0fbb-4d2f-ae7f-16167d3452ae"
   },
   "outputs": [
    {
     "name": "stdout",
     "output_type": "stream",
     "text": [
      "Training:Start\n",
      "Epoch: 1 Cost: 1.8016789558941066 accuracy: 0.3664490049751244 \n",
      "Epoch: 2 Cost: 1.440381073256475 accuracy: 0.5108386638237384 \n",
      "Epoch: 3 Cost: 1.3126959957150612 accuracy: 0.5708733120113717 \n",
      "Epoch: 4 Cost: 1.2200947013467678 accuracy: 0.6069207533759773 \n",
      "Epoch: 5 Cost: 1.1501501446343418 accuracy: 0.6351057213930348 \n",
      "Epoch: 6 Cost: 1.0902257096631767 accuracy: 0.6599147121535182 \n",
      "Epoch: 7 Cost: 1.0366249620744887 accuracy: 0.6813921464108031 \n",
      "Epoch: 8 Cost: 0.9880126613175038 accuracy: 0.7002931769722814 \n",
      "Epoch: 9 Cost: 0.9494544973922827 accuracy: 0.7168843283582089 \n",
      "Epoch: 10 Cost: 0.9173929581304702 accuracy: 0.7320318052594172 \n",
      "Epoch: 11 Cost: 0.8806857776167043 accuracy: 0.74613539445629 \n",
      "Epoch: 12 Cost: 0.8513323084516172 accuracy: 0.7569740582800284 \n",
      "Epoch: 13 Cost: 0.8198776644671795 accuracy: 0.7707444918265813 \n",
      "Epoch: 14 Cost: 0.7936121667516689 accuracy: 0.7823605188343994 \n",
      "Epoch: 15 Cost: 0.7675969636075697 accuracy: 0.7938210732054015 \n",
      "Epoch: 16 Cost: 0.743044464614449 accuracy: 0.802860696517413 \n",
      "Epoch: 17 Cost: 0.7185856009572532 accuracy: 0.8120780028429282 \n",
      "Epoch: 18 Cost: 0.697229328293719 accuracy: 0.8244713930348259 \n",
      "Epoch: 19 Cost: 0.6792683290426287 accuracy: 0.832089552238806 \n",
      "Epoch: 20 Cost: 0.6511343993341939 accuracy: 0.8420620113717129 \n",
      "Epoch: 21 Cost: 0.6403129976852181 accuracy: 0.8511904761904762 \n",
      "Epoch: 22 Cost: 0.6167436417822817 accuracy: 0.8607631485429993 \n",
      "Epoch: 23 Cost: 0.6009267282011159 accuracy: 0.8672707889125799 \n",
      "Epoch: 24 Cost: 0.585570932897192 accuracy: 0.8764214641080312 \n",
      "Epoch: 25 Cost: 0.5706987387128439 accuracy: 0.8850613006396588 \n",
      "Epoch: 26 Cost: 0.5510483353397415 accuracy: 0.8911247334754797 \n",
      "Epoch: 27 Cost: 0.530840742479941 accuracy: 0.8980099502487562 \n",
      "Epoch: 28 Cost: 0.526216300652173 accuracy: 0.9034292821606255 \n",
      "Epoch: 29 Cost: 0.5082899419588182 accuracy: 0.9094482942430704 \n",
      "Epoch: 30 Cost: 0.4909200363687821 accuracy: 0.9187100213219617 \n",
      "Epoch: 31 Cost: 0.4785166472238972 accuracy: 0.923751776830135 \n",
      "Epoch: 32 Cost: 0.46785062886933515 accuracy: 0.9292821606254442 \n",
      "Epoch: 33 Cost: 0.45619080758853625 accuracy: 0.9338352878464818 \n",
      "Epoch: 34 Cost: 0.44119419515726405 accuracy: 0.9400764036958067 \n",
      "Epoch: 35 Cost: 0.43110497407138265 accuracy: 0.9454957356076759 \n",
      "Epoch: 36 Cost: 0.42414210016334464 accuracy: 0.9496268656716418 \n",
      "Epoch: 37 Cost: 0.41059417864718445 accuracy: 0.9536469438521677 \n",
      "Epoch: 38 Cost: 0.39458403421584437 accuracy: 0.9570007107320541 \n",
      "Epoch: 39 Cost: 0.38882558819325175 accuracy: 0.9613761549395877 \n",
      "Epoch: 40 Cost: 0.3811166330530794 accuracy: 0.9649298152096659 \n",
      "Epoch: 41 Cost: 0.37549246107340706 accuracy: 0.9675728500355366 \n",
      "Epoch: 42 Cost: 0.3622921103900391 accuracy: 0.9705490405117271 \n",
      "Epoch: 43 Cost: 0.3540057951218818 accuracy: 0.9734808102345416 \n",
      "Epoch: 44 Cost: 0.35064526728935974 accuracy: 0.9753242714996446 \n",
      "Epoch: 45 Cost: 0.338355511919745 accuracy: 0.9779450959488273 \n",
      "Epoch: 46 Cost: 0.3276565738531044 accuracy: 0.9797885572139303 \n",
      "Epoch: 47 Cost: 0.3295526101411576 accuracy: 0.9815653873489695 \n",
      "Epoch: 48 Cost: 0.3167244526577496 accuracy: 0.9835421108742004 \n",
      "Epoch: 49 Cost: 0.3105434710689811 accuracy: 0.9857853589196873 \n",
      "Epoch: 50 Cost: 0.3042967631872399 accuracy: 0.986362828713575 \n",
      "Cross validation loss: 175.25784301757812 accuracy: 0.6575999855995178\n",
      "Test set accuracy 0.7860000133514404\n"
     ]
    }
   ],
   "source": [
    "with tf.Session(config=config) as sess:\n",
    "    sess.run(tf.global_variables_initializer())\n",
    "    \n",
    "    # Create mini batches and train data\n",
    "    \n",
    "    total_size = x_train.shape[0]\n",
    "    number_of_batches = int(total_size/batch_size)\n",
    "    \n",
    "    print(\"Training:Start\")\n",
    "    for e in range(epoch):\n",
    "        epoch_cost = 0\n",
    "        epoch_accuracy = 0\n",
    "        for i in range(number_of_batches):\n",
    "            mini_x = x_train[i*batch_size:(i+1)*batch_size, :, :, :]\n",
    "            mini_y = y_train[i*batch_size:(i+1)*batch_size, :]\n",
    "            _, cost = sess.run([train_op,loss], feed_dict={x:mini_x, y_true:mini_y,train_mode:True})\n",
    "            train_accuracy = sess.run(accuracy, feed_dict={x:mini_x, y_true:mini_y,train_mode:False})\n",
    "            epoch_cost += cost\n",
    "            epoch_accuracy += train_accuracy\n",
    "        \n",
    "        #If the total number of training examles is not exactly divisible by batch_size, \n",
    "        #we have one more batch of size (total_size - number_of_batches*batch_size)\n",
    "        if total_size % batch_size != 0:\n",
    "            mini_x = x_train[number_of_batches*batch_size:total_size, :, :, :]\n",
    "            mini_y = y_train[number_of_batches*batch_size:total_size, :]\n",
    "            _, cost = sess.run([train_op, loss], feed_dict={x:mini_x, y_true:mini_y, train_mode:True})\n",
    "            train_accuracy = sess.run(accuracy, feed_dict={x:mini_x,y_true:mini_y, train_mode:False})\n",
    "            epoch_cost += cost\n",
    "            epoch_accuracy += train_accuracy\n",
    "        \n",
    "        epoch_cost /= number_of_batches\n",
    "        \n",
    "        if total_size % batch_size != 0:\n",
    "            epoch_accuracy /= (number_of_batches+1)\n",
    "        else:\n",
    "            epoch_accuracy /= number_of_batches\n",
    "        print(\"Epoch: {} Cost: {} accuracy: {} \".format(e+1, np.squeeze(epoch_cost), epoch_accuracy))\n",
    "    \n",
    "    #Cross validation loss and accuracy\n",
    "    cv_loss, cv_accuracy = sess.run([loss, accuracy], {x:cv_x, y_true:cv_y, train_mode: False})\n",
    "    print(\"Cross validation loss: {} accuracy: {}\".format(np.squeeze(cv_loss), cv_accuracy))\n",
    "    \n",
    "    #prediction for test set\n",
    "    test_accuracy = sess.run(accuracy,{x:x_test, y_true:y_test,train_mode:False})\n",
    "    print(\"Test set accuracy {}\".format(test_accuracy))"
   ]
  },
  {
   "cell_type": "markdown",
   "metadata": {
    "colab": {
     "autoexec": {
      "startup": false,
      "wait_interval": 0
     }
    },
    "colab_type": "code",
    "id": "1baX46wBlCSi"
   },
   "source": [
    "## 6. Plots\n",
    "\n",
    "Konvolüsyonel sinir ağlarında parametrelerin doğru seçilmesi başarıyı doğrudan etkilemektedir. Bu bölümde farklı parametrelerin sonucu nasıl etkilediğine dair grafikler verilmiştir ve doğru sinir ağı tasarımının nasıl olması gerektiğine yoğunlaşılmıştır.\n",
    "\n",
    "Parametre değişikliklerini temsil etmek için aksi belirtilmedikçe aynı model kullanılmıştır. Kullanılan model 4 konvolüsyon, 2 havuzlama, 3 droput, 5 ReLu ve 1 gizli katmandan oluşmaktadır.\n",
    "\n",
    "**Konvolüsyonel Sinir Ağı Mimarisi:** <br/>\n",
    "Input --> Conv --> ReLu --> Conv --> ReLu --> Pooling --> Dropout --> Conv --> ReLu --> Conv --> ReLu --> Pooling\n",
    "        --> Flatten --> Hidden Layer 1 --> ReLu --> Output\n",
    "\n",
    "### 6.1 Different Filter Size\n",
    "\n",
    "<img src=\"Plots/CIFAR10_Filter_3_5.png\" style=\"width:600px;height:400px;\"><br/>\n",
    "<img src=\"Plots/CIFAR-10_Diff_Filter_Size.png\" style=\"width:600px;height:400px;\"><br/>\n",
    "<img src=\"Plots/CIFAR10_Filter_3_5_7_Bar.png\" style=\"width:600px;height:400px;\"><br/>\n",
    "<img src=\"Plots/Different_Fİlter_Tİme.png\" style=\"width:600px;height:400px;\"><br/>\n",
    "\n",
    "**Yorum:** Farklı filtre sayıları sonucu farklı olarak etkilemiştir. Filtre boyutunun küçük seçilmesi görüntü üzerindeki özelliklerin daha iyi yakalanmasını sağlar fakat hesaplama zamanını arttırır. Aynı zamanda filtre boyutunun büyük seçilmesi görüntü üzerideki bazı özelliklerin kaybedilmesine neden olur. Bu yüzden filtre boyutu doğru bir şekilde seçilmelidir.\n",
    "\n",
    "<br/>\n",
    "### 6.2 Different Channel Count\n",
    "\n",
    "<img src=\"Plots/CIFAR10_ChannelCount.png\" style=\"width:600px;height:400px;\"><br/>\n",
    "<img src=\"Plots/CIFAR10_ChannelCount_Bar.png\" style=\"width:600px;height:400px;\"><br/>\n",
    "<img src=\"Plots/Different_ChannelCount_Tİme.png\" style=\"width:600px;height:400px;\"><br/>\n",
    "\n",
    "**Yorum:** İdeal konvolüsyonel sinir ağ tasarımına bakıldığında derinlik arttıkça görüntü boyutunun küçültülmesi, kanal sayısının arttırılması gerekmektedir. Kanal sayısının arttırılması elde edilen özellik sayısını arttıracaktır. Daha fazla özellik çıkarımı sağlanarak sinir ağı daha iyi eğitilecektir. Fakat bunu yaparken görüntü boyutunun belirli bir değere kadar küçültülmesi gerekir. Aksi halde çok fazla hesaplama yükü gerekir.\n",
    "\n",
    "### 6.3 Different Batch Size\n",
    "\n",
    "<img src=\"Plots/CIFAR10_BatchSize.png\" style=\"width:600px;height:400px;\"><br/>\n",
    "<img src=\"Plots/CIFAR10_BatchSize_Bar.png\" style=\"width:600px;height:400px;\"><br/>\n",
    "<img src=\"Plots/Different_Batch_Tİme.png\" style=\"width:600px;height:400px;\"><br/>\n",
    "\n",
    "**Yorum:** Batch değerinin yüksek seçilmesi eğitim sırasında bazı bilgilerin kaybına ve ağırlıkların doğru bir şekilde güncellenememesine, yani yanlış öğrenmeye neden olabilir. Küçük batch değerleri doğruluk oranını arttırabilir fakat hesaplama zamanını da arttırır. Bu yüzden batch değerleri veri setine ve oluşturulan mimariye uygun olarak seçilmelidir.\n",
    "\n",
    "### 6.4 Pooling Method\n",
    "\n",
    "<img src=\"Plots/CIFAR10_PoolingMethod.png\" style=\"width:600px;height:400px;\"><br/>\n",
    "<img src=\"Plots/CIFAR10_PoolingMethod_Bar.png\" style=\"width:600px;height:400px;\"><br/>\n",
    "\n",
    "\n",
    "### 6.5 Different Models\n",
    "\n",
    "<img src=\"Plots/CIFAR10_Model1vsModel2.png\" style=\"width:600px;height:400px;\"><br/>\n",
    "<img src=\"Plots/CIFAR10_Model1vsModel2_Bar.png\" style=\"width:600px;height:400px;\"><br/>\n",
    "\n",
    "**Yorum:** Bu bölümde, bölümün başında varsayılan olarak belirtilen Model1 ile havuzlama katmanının yerinin değiştirilmesi ile oluşan Model2 karşılaştırılmıştır. Model2, Model1 den farklı olarak şu şekilde tasarlanmıştır:\n",
    "\n",
    "**Conv + ReLu --> Pooling --> Conv + ReLu  --> Dropout --> Conv + ReLu --> Pooling --> Conv + ReLu --> Dropout**\n",
    "\n",
    "### 6.6 Different Kernel Initializer\n",
    "\n",
    "<img src=\"Plots/CIFAR10_Initializers.png\" style=\"width:600px;height:400px;\"><br/>\n",
    "<img src=\"Plots/CIFAR10_Initializers_Bar.png\" style=\"width:600px;height:400px;\"><br/>\n",
    "\n",
    "\n",
    "### 6.7 Different Regularization\n",
    "\n",
    "<img src=\"Plots/CIFAR10_Regularization.png\" style=\"width:600px;height:400px;\"><br/>\n",
    "<img src=\"Plots/CIFAR10_Regularization_Bar.png\" style=\"width:600px;height:400px;\"><br/>\n",
    "\n",
    "### 6.8 Different Dropout Rate\n",
    "\n",
    "<img src=\"Plots/CIFAR10_Dropouts.png\" style=\"width:600px;height:400px;\"><br/>\n",
    "<img src=\"Plots/CIFAR10_Dropouts_Bar.png\" style=\"width:600px;height:400px;\"><br/>\n",
    "\n",
    "**Yorum:** Aşırı öğrenmeyi(Overfitting) azaltmak için kullanılan Dropout yönteminde \"dropout rate\" değeri doğru bir şekilde seçilmelidir. Kullanılan veri seti ve katmanlarda kullanılan düğüm sayısına göre dropout rate değeri belirlenmelidir. Daha az derin ağlarda ve düğüm sayısının az olduğu katmanlarda dropout değeri 0.5 değerinin üzerinde tutulmamalıdır. Düşük \"dropout rate\" değeri overfitting, yüksek \"dropout rate\" değeri underfitting oluşturmaktadır.\n",
    "\n",
    "### 6.9 Different Models\n",
    "\n",
    "<img src=\"Plots/3Modelvs.png\" style=\"width:600px;height:400px;\"><br/>\n",
    "<img src=\"Plots/3ModelvsBar.png\" style=\"width:600px;height:400px;\"><br/>\n",
    "<img src=\"Plots/Different_Model_Tİme.png\" style=\"width:600px;height:400px;\"><br/>\n",
    "\n",
    "**Yorum:** \n",
    "- **Model1:**<br/>\n",
    "    Flatten(6x6x128)<br/>\n",
    "    Hidden Layer 1 + ReLu (512 Unit)<br/>\n",
    "    Dropout Layer(0.5 Dropout Rate)<br/>\n",
    "    Hidden Layer 2 + ReLu (1024 Unit)<br/>\n",
    "    Dropout Layer(0.5 Dropout Rate)<br/>\n",
    "    Output <br/>\n",
    "    \n",
    "  **Model2:**<br/>\n",
    "    Flatten(6x6x128)<br/>\n",
    "    Hidden Layer 1 + ReLu (512 Unit)<br/>\n",
    "    Dropout Layer(0.25 Dropout Rate)<br/>\n",
    "    Hidden Layer 2 + ReLu (1024 Unit)<br/>\n",
    "    Dropout Layer(0.75 Dropout Rate)<br/>\n",
    "    Output\n",
    "    \n",
    "  **Model3:**<br/>\n",
    "    Flatten(6x6x128)<br/>\n",
    "    Hidden Layer 1 + ReLu (512 Unit)<br/>\n",
    "    Dropout Layer(0.25 Dropout Rate)<br/>\n",
    "    Output\n",
    "    \n",
    "    Sonuçlarda görüldüğü gibi kompleks veya daha derin modeller kurmak her zaman başarı sonuçlar elde edileceği anlamına gelmez. Hatta klasik konvolüsyonel sinir ağlarında ard arda dizilen çok katmandan oluşan modellerin, derinlik arttıkça belirli bir yere kadar başarılı değerler verdiği, fakat belirli bir derinlikten sonra beklenenin aksine hatanın arttığı görülmüştür. Bunun nedeni derinlik arttıkça ilk katmanlarda öğrenilen özelliklerin ileriye gidildikçe kaybedilmesindendir. Bunu çözmek için geliştirilen ResNet ve DenseNet gibi mimariler vardır. Bu mimariler özellik paylaşımını arttırmaktadır."
   ]
  },
  {
   "cell_type": "code",
   "execution_count": 0,
   "metadata": {
    "colab": {
     "autoexec": {
      "startup": false,
      "wait_interval": 0
     }
    },
    "colab_type": "code",
    "id": "5exEfYTM0PZE"
   },
   "outputs": [],
   "source": []
  }
 ],
 "metadata": {
  "accelerator": "GPU",
  "colab": {
   "collapsed_sections": [],
   "default_view": {},
   "name": "CIFAR10.ipynb",
   "provenance": [],
   "version": "0.3.2",
   "views": {}
  },
  "kernelspec": {
   "display_name": "Python 3",
   "language": "python",
   "name": "python3"
  },
  "language_info": {
   "codemirror_mode": {
    "name": "ipython",
    "version": 3
   },
   "file_extension": ".py",
   "mimetype": "text/x-python",
   "name": "python",
   "nbconvert_exporter": "python",
   "pygments_lexer": "ipython3",
   "version": "3.6.4"
  }
 },
 "nbformat": 4,
 "nbformat_minor": 1
}
